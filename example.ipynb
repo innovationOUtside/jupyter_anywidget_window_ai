{
	"cells": [
		{
			"cell_type": "markdown",
			"metadata": {},
			"source": [
				"# Examples — `jupyter_anywidget_window_ai`\n",
				"\n",
				"Examples of using [`jupyter_anywidget_window_ai`](https://github.com/innovationOUtside/jupyter_anywidget_window_ai)."
			]
		},
		{
			"cell_type": "markdown",
			"metadata": {},
			"source": [
				"## Inline example\n",
				"\n",
				"Works in Chrome Canary with `window.ai` experiments enabled:  JupyterLab, notebook v7"
			]
		},
		{
			"cell_type": "code",
			"execution_count": null,
			"metadata": {},
			"outputs": [],
			"source": [
				"from jupyter_anywidget_window_ai import windowai_inline\n",
				"\n",
				"wi = windowai_inline(completion_tone=True)\n",
				"wi.create_session(system_prompt=\"You are a helpful assistant.\")\n",
				"# Other params: topK=INT, termperature=FLOAT"
			]
		},
		{
			"cell_type": "code",
			"execution_count": null,
			"metadata": {},
			"outputs": [],
			"source": [
				"wi.prompt(\"Hello, how are you?\")"
			]
		},
		{
			"cell_type": "code",
			"execution_count": null,
			"metadata": {},
			"outputs": [],
			"source": [
				"wi.destroy()"
			]
		},
		{
			"cell_type": "markdown",
			"metadata": {},
			"source": [
				"## Headless example\n",
				"\n",
				"Works in Chrome Canary with `window.ai` experiments enabled:  JupyterLab, notebook v7"
			]
		},
		{
			"cell_type": "code",
			"execution_count": null,
			"metadata": {},
			"outputs": [],
			"source": [
				"from jupyter_anywidget_window_ai import windowai_headless\n",
				"\n",
				"wh = windowai_headless(speak_msg=True)\n",
				"wh.create_session(system_prompt=\"You are a helpful assistant.\")"
			]
		},
		{
			"cell_type": "code",
			"execution_count": null,
			"metadata": {},
			"outputs": [],
			"source": [
				"wh.prompt(\"Hello, how are you?\")"
			]
		},
		{
			"cell_type": "code",
			"execution_count": null,
			"metadata": {},
			"outputs": [],
			"source": [
				"# Close session\n",
				"wp.destroy()"
			]
		},
		{
			"cell_type": "markdown",
			"metadata": {},
			"source": [
				"## Panel example\n",
				"\n",
				"Works in Chrome Canary with `window.ai` experiments enabled:  JupyterLab, notebook v7\n",
				"\n",
				"\n",
				"Also uses [`jupyterlab-sidecar`](https://github.com/jupyter-widgets/jupyterlab-sidecar) extension)."
			]
		},
		{
			"cell_type": "code",
			"execution_count": null,
			"metadata": {},
			"outputs": [],
			"source": [
				"# Panel view does not work in VS Code\n",
				"from jupyter_anywidget_window_ai import windowai_panel\n",
				"\n",
				"wp = windowai_panel(\n",
				"    speak_msg=True,\n",
				")\n",
				"\n",
				"wp.create_session(system_prompt=\"You are a helpful assistant.\")\n",
				"\n",
				"wp.prompt(\"Hello, how are you?\")"
			]
		},
		{
			"cell_type": "code",
			"execution_count": null,
			"metadata": {},
			"outputs": [],
			"source": [
				"# Get response when available:\n",
				"wp.get_latest_output()"
			]
		},
		{
			"cell_type": "code",
			"execution_count": null,
			"metadata": {},
			"outputs": [],
			"source": [
				"# Close session\n",
				"wp.destroy()\n",
				"\n",
				"# Close panel\n",
				"wp.close()"
			]
		}
	],
	"metadata": {
		"kernelspec": {
			"display_name": "Python 3",
			"language": "python",
			"name": "python3"
		},
		"language_info": {
			"codemirror_mode": {
				"name": "ipython",
				"version": 3
			},
			"file_extension": ".py",
			"mimetype": "text/x-python",
			"name": "python",
			"nbconvert_exporter": "python",
			"pygments_lexer": "ipython3",
			"version": "3.11.0"
		}
	},
	"nbformat": 4,
	"nbformat_minor": 2
}
